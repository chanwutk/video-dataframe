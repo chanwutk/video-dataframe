{
 "cells": [
  {
   "cell_type": "code",
   "execution_count": null,
   "id": "15547fa5-b2c4-47c7-9c87-65f1e2d6e894",
   "metadata": {},
   "outputs": [],
   "source": [
    "import polars as pl"
   ]
  },
  {
   "cell_type": "code",
   "execution_count": null,
   "id": "475c94ed-315a-463c-ab78-d399a5e97c3a",
   "metadata": {},
   "outputs": [],
   "source": [
    "pl.DataFrame"
   ]
  },
  {
   "cell_type": "code",
   "execution_count": null,
   "id": "f99279ea-fb8c-4c22-875b-c882a2ac41b1",
   "metadata": {},
   "outputs": [],
   "source": [
    "from src.video import Video"
   ]
  },
  {
   "cell_type": "code",
   "execution_count": null,
   "id": "710bfc92-7910-4694-b839-ae6d03d3a1fc",
   "metadata": {},
   "outputs": [],
   "source": []
  },
  {
   "cell_type": "code",
   "execution_count": null,
   "id": "9ce98536-c874-4d8c-ae47-9438148c9d06",
   "metadata": {},
   "outputs": [],
   "source": [
    "pl.LazyFrame({\n",
    "    \"VideoFrame\": Video('./videos/hwy00.mp4')\n",
    "})"
   ]
  },
  {
   "cell_type": "code",
   "execution_count": null,
   "id": "d43a17a3-e5d1-4a61-98af-32df82526329",
   "metadata": {},
   "outputs": [],
   "source": []
  }
 ],
 "metadata": {
  "kernelspec": {
   "display_name": "Python 3 (ipykernel)",
   "language": "python",
   "name": "python3"
  },
  "language_info": {
   "codemirror_mode": {
    "name": "ipython",
    "version": 3
   },
   "file_extension": ".py",
   "mimetype": "text/x-python",
   "name": "python",
   "nbconvert_exporter": "python",
   "pygments_lexer": "ipython3",
   "version": "3.12.4"
  }
 },
 "nbformat": 4,
 "nbformat_minor": 5
}
