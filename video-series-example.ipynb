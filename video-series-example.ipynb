{
 "cells": [
  {
   "cell_type": "code",
   "execution_count": 1,
   "id": "0e02435b-e1ed-41e8-a50a-f8e934ead5c4",
   "metadata": {},
   "outputs": [],
   "source": [
    "import pandas as pd\n",
    "import cv2"
   ]
  },
  {
   "cell_type": "code",
   "execution_count": 2,
   "id": "8f9d474c-10e1-401b-b1a8-3a9f6b87673d",
   "metadata": {},
   "outputs": [],
   "source": [
    "from src.video_series import VideoSeries"
   ]
  },
  {
   "cell_type": "code",
   "execution_count": null,
   "id": "a6e762e6-8e11-4a5e-8e2c-a7c9eb1e934b",
   "metadata": {},
   "outputs": [],
   "source": []
  },
  {
   "cell_type": "code",
   "execution_count": 3,
   "id": "c07def72-9dde-4562-b103-90c06cccd9d2",
   "metadata": {},
   "outputs": [],
   "source": [
    "vseries = VideoSeries('somefile.mp4')"
   ]
  },
  {
   "cell_type": "code",
   "execution_count": 4,
   "id": "d5f12d8e-3dbd-4ba2-9621-3fbfffe29ea6",
   "metadata": {},
   "outputs": [],
   "source": [
    "def somefunction(frame):\n",
    "    return 'someresult'"
   ]
  },
  {
   "cell_type": "code",
   "execution_count": null,
   "id": "c99fbd5a-2f02-4395-a680-8f18914880ac",
   "metadata": {},
   "outputs": [],
   "source": [
    "result_series = vseries.apply(somefunction)"
   ]
  }
 ],
 "metadata": {
  "kernelspec": {
   "display_name": "Python 3 (ipykernel)",
   "language": "python",
   "name": "python3"
  },
  "language_info": {
   "codemirror_mode": {
    "name": "ipython",
    "version": 3
   },
   "file_extension": ".py",
   "mimetype": "text/x-python",
   "name": "python",
   "nbconvert_exporter": "python",
   "pygments_lexer": "ipython3",
   "version": "3.12.4"
  }
 },
 "nbformat": 4,
 "nbformat_minor": 5
}
